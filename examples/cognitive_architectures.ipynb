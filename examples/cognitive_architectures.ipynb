{
 "cells": [
  {
   "cell_type": "markdown",
   "id": "5217080f-14b0-448e-bae4-092f6bbdddd4",
   "metadata": {},
   "source": [
    "# Cognitive Architectures\n",
    "\n",
    "How does your LLM system think? There are a few different strategies to improve reasoning ability of LLMs. Let's cover them here."
   ]
  },
  {
   "cell_type": "code",
   "execution_count": 1,
   "id": "971e9aca-212c-4477-9e51-76dc1329a14a",
   "metadata": {},
   "outputs": [],
   "source": [
    "from operator import itemgetter\n",
    "\n",
    "from langchain.chat_models.openai import ChatOpenAI\n",
    "from langchain.prompts import SystemMessagePromptTemplate, ChatPromptTemplate\n",
    "from langchain.schema.output_parser import StrOutputParser\n",
    "from langchain.runnables.openai_functions import OpenAIFunctionsRouter\n",
    "\n",
    "from permchain.connection_inmemory import InMemoryPubSubConnection\n",
    "from permchain.pubsub import PubSub\n",
    "from permchain.topic import Topic"
   ]
  },
  {
   "cell_type": "markdown",
   "id": "a13463fc-9794-4eed-9153-0975682c5be8",
   "metadata": {},
   "source": [
    "## LLM Call\n",
    "\n",
    "Most basic - just ask the LLM."
   ]
  },
  {
   "cell_type": "code",
   "execution_count": 2,
   "id": "876078a3-15ab-47cf-92a3-d1268a7f2fe8",
   "metadata": {},
   "outputs": [],
   "source": [
    "message = \"write a two line poem about the college that brett farves replacement in GB went to\""
   ]
  },
  {
   "cell_type": "code",
   "execution_count": 3,
   "id": "e4061961-00e7-4e52-9164-1e4f0a2c6d47",
   "metadata": {},
   "outputs": [],
   "source": [
    "model = ChatOpenAI(temperature=0)"
   ]
  },
  {
   "cell_type": "code",
   "execution_count": 4,
   "id": "7ad32bb8-deca-4de4-935f-3277653741ae",
   "metadata": {},
   "outputs": [
    {
     "data": {
      "text/plain": [
       "AIMessage(content=\"From Southern Miss to Green Bay's fame,\\nA golden eagle soared, Rodgers became.\", additional_kwargs={}, example=False)"
      ]
     },
     "execution_count": 4,
     "metadata": {},
     "output_type": "execute_result"
    }
   ],
   "source": [
    "model.invoke(message)"
   ]
  },
  {
   "cell_type": "markdown",
   "id": "e8c6902c-ba25-49e5-8de3-71dae82031f5",
   "metadata": {},
   "source": [
    "## Chain of Thought\n",
    "\n",
    "The LLM we are using has been trained with Chain-of-Thought. For older LLMs, you had to explicitly ask the LLM to think this way."
   ]
  },
  {
   "cell_type": "code",
   "execution_count": 5,
   "id": "7d414f15-c855-40cd-8c03-bcbfda4b3a83",
   "metadata": {},
   "outputs": [],
   "source": [
    "simple_prompt = ChatPromptTemplate.from_messages([\n",
    "    (\"human\", \"{input}\"),\n",
    "    (\"ai\", \"let's think step by step to get the CORRECT answer\"),\n",
    "])"
   ]
  },
  {
   "cell_type": "code",
   "execution_count": 6,
   "id": "0d80d0f6-cb34-475b-87ce-efdad7ac9da8",
   "metadata": {},
   "outputs": [],
   "source": [
    "simple_chain = simple_prompt | model | StrOutputParser()"
   ]
  },
  {
   "cell_type": "code",
   "execution_count": 7,
   "id": "228acae2-0e26-4208-a19c-630e326299b1",
   "metadata": {},
   "outputs": [
    {
     "data": {
      "text/plain": [
       "'From Southern Miss he rose,\\nTo lead the Packers, his talent shows.'"
      ]
     },
     "execution_count": 7,
     "metadata": {},
     "output_type": "execute_result"
    }
   ],
   "source": [
    "simple_chain.invoke({\"input\": message})"
   ]
  },
  {
   "cell_type": "markdown",
   "id": "0fc128cd-79fe-4c51-ba1c-7e95ec04cf4e",
   "metadata": {},
   "source": [
    "## Revise\n",
    "\n",
    "Create a chain that revises an initial prediction"
   ]
  },
  {
   "cell_type": "code",
   "execution_count": 8,
   "id": "ab843660-df8f-4d8b-ad30-cefdc79d6862",
   "metadata": {},
   "outputs": [],
   "source": [
    "revise_prompt = ChatPromptTemplate.from_messages([\n",
    "    (\"system\", \"Given a user question and initial attempt, revise the attempt be (1) more factually accurate, (2) a better poem\"),\n",
    "    (\"human\", \"{input}\"),\n",
    "    (\"system\", \"here's your initial attempt:\"),\n",
    "    (\"ai\", \"{attempt}\"),\n",
    "])"
   ]
  },
  {
   "cell_type": "code",
   "execution_count": 9,
   "id": "578560c1-1527-4471-91c4-074d6a0caca6",
   "metadata": {},
   "outputs": [],
   "source": [
    "revise_chain = {\n",
    "    \"input\": lambda x: x[\"input\"],\n",
    "    \"attempt\": simple_chain | StrOutputParser()\n",
    "} | revise_prompt | model"
   ]
  },
  {
   "cell_type": "code",
   "execution_count": 10,
   "id": "b099bda0-7fe0-42ee-b514-c63c68da75e8",
   "metadata": {},
   "outputs": [
    {
     "data": {
      "text/plain": [
       "AIMessage(content=\"In Green Bay's realm, a legend grew,\\nFrom Southern Miss, the chosen few.\", additional_kwargs={}, example=False)"
      ]
     },
     "execution_count": 10,
     "metadata": {},
     "output_type": "execute_result"
    }
   ],
   "source": [
    "revise_chain.invoke({\"input\": message})"
   ]
  },
  {
   "cell_type": "markdown",
   "id": "a742b8ee-6f09-431c-b214-f2810de813db",
   "metadata": {},
   "source": [
    "You can also do this with permchain"
   ]
  },
  {
   "cell_type": "code",
   "execution_count": 11,
   "id": "59cc89b5-278a-4c95-927f-c4c2ac1b452e",
   "metadata": {},
   "outputs": [],
   "source": [
    "reviser_inbox = Topic(\"reviser_inbox\")\n",
    "draft_chain = (\n",
    "    # Listed in inputs\n",
    "    Topic.IN.subscribe()\n",
    "    | {\"attempt\": simple_chain | StrOutputParser(), \"input\": Topic.IN.current() | itemgetter(\"input\")}\n",
    "    # The draft always goes to the editors inbox\n",
    "    | reviser_inbox.publish()\n",
    ")\n",
    "\n",
    "reviser_chain = (\n",
    "    # Listen for events in the reviser's inbox\n",
    "    reviser_inbox.subscribe()\n",
    "    | {\"revision\": revise_chain | StrOutputParser()}\n",
    "    # Publish to the editors inbox\n",
    "    | Topic.OUT.publish()\n",
    ")"
   ]
  },
  {
   "cell_type": "code",
   "execution_count": 12,
   "id": "d39d281e-5614-48aa-886c-9bc3a82c8fa9",
   "metadata": {},
   "outputs": [],
   "source": [
    "revise_pub_sub = PubSub(\n",
    "    processes=(draft_chain, reviser_chain),\n",
    "    connection=InMemoryPubSubConnection(),\n",
    ")"
   ]
  },
  {
   "cell_type": "code",
   "execution_count": 13,
   "id": "757b86c8-fd89-4134-a20c-b8a0614bc81f",
   "metadata": {},
   "outputs": [
    {
     "data": {
      "text/plain": [
       "[{'revision': \"In Green Bay's realm, a legend grew,\\nFrom Southern Miss, the chosen few.\"}]"
      ]
     },
     "execution_count": 13,
     "metadata": {},
     "output_type": "execute_result"
    }
   ],
   "source": [
    "revise_pub_sub.invoke({\"input\": message})"
   ]
  },
  {
   "cell_type": "markdown",
   "id": "5575ad62-848f-42de-bce1-45872801e611",
   "metadata": {},
   "source": [
    "## Critique and Revise\n",
    "\n",
    "Let's separate out the critique and revise steps explicitly\n"
   ]
  },
  {
   "cell_type": "code",
   "execution_count": 15,
   "id": "54da2cc9-3edd-43ac-afcf-25673a79c2fa",
   "metadata": {},
   "outputs": [],
   "source": [
    "critique_prompt = ChatPromptTemplate.from_messages([\n",
    "    (\"system\", \"Given a user question and initial attempt, critique whether the attempt is factually accurate and a valid two line poem\"),\n",
    "    (\"human\", \"{input}\"),\n",
    "    (\"system\", \"here's your initial attempt:\"),\n",
    "    (\"ai\", \"{attempt}\"),\n",
    "])\n",
    "revise_critique_prompt = ChatPromptTemplate.from_messages([\n",
    "    (\"system\", \"Given a user question and initial attempt, first critique the attempt, and then revise it based on the critique\"),\n",
    "    (\"human\", \"{input}\"),\n",
    "    (\"system\", \"here's your initial attempt:\"),\n",
    "    (\"ai\", \"{attempt}\"),\n",
    "    (\"system\", \"here's your critique:\"),\n",
    "    (\"ai\", \"{critique}\"),\n",
    "])"
   ]
  },
  {
   "cell_type": "code",
   "execution_count": 16,
   "id": "0806b84a-bcd0-4602-9917-c416daca33c3",
   "metadata": {},
   "outputs": [],
   "source": [
    "reviser_inbox = Topic(\"reviser_inbox\")\n",
    "critique_inbox = Topic(\"critique_inbox\")\n",
    "draft_chain = (\n",
    "    # Listed in inputs\n",
    "    Topic.IN.subscribe()\n",
    "    | {\"attempt\": simple_chain | StrOutputParser(), \"input\": Topic.IN.current() | itemgetter(\"input\")}\n",
    "    # The draft always goes to the editors inbox\n",
    "    | critique_inbox.publish()\n",
    ")\n",
    "\n",
    "critique_chain = (\n",
    "    # Listen for events in the reviser's inbox\n",
    "    critique_inbox.subscribe()\n",
    "    | {\n",
    "        \"critique\": critique_prompt | ChatOpenAI() | StrOutputParser(),\n",
    "        \"input\": Topic.IN.current() | itemgetter(\"input\"),\n",
    "        \"attempt\": itemgetter(\"attempt\")\n",
    "    }\n",
    "    # Publish to the editors inbox\n",
    "    | reviser_inbox.publish()\n",
    ")\n",
    "\n",
    "reviser_chain = (\n",
    "    # Listen for events in the reviser's inbox\n",
    "    reviser_inbox.subscribe()\n",
    "    | {\"revision\": revise_chain | StrOutputParser()}\n",
    "    # Publish to the editors inbox\n",
    "    | Topic.OUT.publish()\n",
    ")"
   ]
  },
  {
   "cell_type": "code",
   "execution_count": 18,
   "id": "7d58f743-3897-42bd-b351-18ce8b82012a",
   "metadata": {},
   "outputs": [],
   "source": [
    "critique_revise_pub_sub = PubSub(\n",
    "    processes=(draft_chain, reviser_chain, critique_chain),\n",
    "    connection=InMemoryPubSubConnection(),\n",
    ")"
   ]
  },
  {
   "cell_type": "code",
   "execution_count": 19,
   "id": "795de0cd-d4ec-45eb-9834-16e5773c7c9d",
   "metadata": {},
   "outputs": [
    {
     "data": {
      "text/plain": [
       "[{'revision': \"In Green Bay's realm, a legend grew,\\nFrom Southern Miss, the chosen few.\"}]"
      ]
     },
     "execution_count": 19,
     "metadata": {},
     "output_type": "execute_result"
    }
   ],
   "source": [
    "critique_revise_pub_sub.invoke({\"input\": message})"
   ]
  },
  {
   "cell_type": "markdown",
   "id": "5b92d846-38ef-4e0d-982f-5ec094471aa0",
   "metadata": {},
   "source": [
    "## Multiple Critique and Revise\n",
    "\n",
    "You can also run the critique/revision step multiple times"
   ]
  },
  {
   "cell_type": "code",
   "execution_count": 20,
   "id": "28ae72d7-3cbc-4fcc-89ed-1c87afa56a3b",
   "metadata": {},
   "outputs": [],
   "source": [
    "editor_llm = ChatOpenAI(model=\"gpt-4\")\n",
    "functions = [\n",
    "    {\n",
    "        \"name\": \"revise\",\n",
    "        \"description\": \"Sends the draft for revision\",\n",
    "        \"parameters\": {\n",
    "            \"type\": \"object\",\n",
    "            \"properties\": {\n",
    "                \"notes\": {\n",
    "                    \"type\": \"string\",\n",
    "                    \"description\": \"The editor's notes to guide the revision.\",\n",
    "                },\n",
    "            },\n",
    "        },\n",
    "    },\n",
    "    {\n",
    "        \"name\": \"accept\",\n",
    "        \"description\": \"Accepts the draft\",\n",
    "        \"parameters\": {\n",
    "            \"type\": \"object\",\n",
    "            \"properties\": {\"ready\": {\"const\": True}},\n",
    "        },\n",
    "    },\n",
    "]\n",
    "editor = critique_prompt | editor_llm.bind(functions=functions)"
   ]
  },
  {
   "cell_type": "code",
   "execution_count": 21,
   "id": "69588ae5-30bb-42c5-8dff-63ab8a709705",
   "metadata": {},
   "outputs": [],
   "source": [
    "# create topics\n",
    "editor_inbox = Topic(\"editor_inbox\")\n",
    "reviser_inbox = Topic(\"reviser_inbox\")\n",
    "\n",
    "draft_chain = (\n",
    "    # Listed in inputs\n",
    "    Topic.IN.subscribe()\n",
    "    | {\"attempt\": simple_chain | StrOutputParser(), \"input\": Topic.IN.current() | itemgetter(\"input\")}\n",
    "    # The draft always goes to the editors inbox\n",
    "    | editor_inbox.publish()\n",
    ")\n",
    "\n",
    "editor_chain = (\n",
    "    # Listen for events in the editors inbox\n",
    "    editor_inbox.subscribe()\n",
    "    | editor\n",
    "    # Depending on the output, different things should happen\n",
    "    | OpenAIFunctionsRouter(\n",
    "        {\n",
    "            # If revise is chosen, we send a push to the revisor's inbox\n",
    "            \"revise\": (\n",
    "                {\n",
    "                    \"critique\": itemgetter(\"notes\"),\n",
    "                    \"attempt\": editor_inbox.current() | itemgetter(\"attempt\"),\n",
    "                    \"input\": Topic.IN.current() | itemgetter(\"input\"),\n",
    "                }\n",
    "                | reviser_inbox.publish()\n",
    "            ),\n",
    "            # If accepted, then we return\n",
    "            \"accept\": editor_inbox.current() | Topic.OUT.publish(),\n",
    "        },\n",
    "    )\n",
    ")\n",
    "\n",
    "reviser_chain = (\n",
    "    # Listen for events in the reviser's inbox\n",
    "    reviser_inbox.subscribe()\n",
    "    | {\"attempt\": revise_chain | StrOutputParser(), \"input\": Topic.IN.current() | itemgetter(\"input\")}\n",
    "    # Publish to the editors inbox\n",
    "    | editor_inbox.publish()\n",
    ")\n",
    "\n",
    "revise_loop = PubSub(\n",
    "    processes=(draft_chain, editor_chain, reviser_chain),\n",
    "    connection=InMemoryPubSubConnection(),\n",
    ")"
   ]
  },
  {
   "cell_type": "code",
   "execution_count": 22,
   "id": "31a75b83-eb24-4ba3-a584-6328ecd8d6dc",
   "metadata": {
    "scrolled": true
   },
   "outputs": [
    {
     "data": {
      "text/plain": [
       "[{'attempt': 'From Southern Miss he rose,\\nTo lead the Packers, his talent shows.',\n",
       "  'input': 'write a two line poem about the college that brett farves replacement in GB went to'}]"
      ]
     },
     "execution_count": 22,
     "metadata": {},
     "output_type": "execute_result"
    }
   ],
   "source": [
    "revise_loop.invoke({\"input\": message})"
   ]
  },
  {
   "cell_type": "markdown",
   "id": "76f899ad-b9c3-45af-affe-a2c0214a5242",
   "metadata": {},
   "source": [
    "## Plan and Execute"
   ]
  },
  {
   "cell_type": "code",
   "execution_count": 23,
   "id": "69de2865-2553-4b80-af0a-1ade93b89ec8",
   "metadata": {},
   "outputs": [],
   "source": [
    "from __future__ import annotations\n",
    "\n",
    "import re\n",
    "from abc import abstractmethod\n",
    "from typing import List\n",
    "\n",
    "from langchain.schema import BaseOutputParser\n",
    "\n",
    "\n",
    "class ListOutputParser(BaseOutputParser[List[str]]):\n",
    "    \"\"\"Parse the output of an LLM call to a list.\"\"\"\n",
    "\n",
    "    @property\n",
    "    def _type(self) -> str:\n",
    "        return \"list\"\n",
    "\n",
    "    @abstractmethod\n",
    "    def parse(self, text: str) -> List[str]:\n",
    "        \"\"\"Parse the output of an LLM call.\"\"\"\n",
    "\n",
    "\n",
    "class CommaSeparatedListOutputParser(ListOutputParser):\n",
    "    \"\"\"Parse the output of an LLM call to a comma-separated list.\"\"\"\n",
    "\n",
    "    @property\n",
    "    def lc_serializable(self) -> bool:\n",
    "        return True\n",
    "\n",
    "    def get_format_instructions(self) -> str:\n",
    "        return (\n",
    "            \"Your response should be a list of comma separated values, \"\n",
    "            \"eg: `foo, bar, baz`\"\n",
    "        )\n",
    "\n",
    "    def parse(self, text: str) -> List[str]:\n",
    "        \"\"\"Parse the output of an LLM call.\"\"\"\n",
    "        return text.strip().split(\", \")\n",
    "\n",
    "\n",
    "class NumberedListOutputParser(ListOutputParser):\n",
    "    \"\"\"Parse a numbered list.\"\"\"\n",
    "\n",
    "    def get_format_instructions(self) -> str:\n",
    "        return (\n",
    "            \"Your response should be a numbered list with each item on a new line. \"\n",
    "            \"For example: \\n\\n1. foo\\n\\n2. bar\\n\\n3. baz\"\n",
    "        )\n",
    "\n",
    "    def parse(self, text: str) -> List[str]:\n",
    "        \"\"\"Parse the output of an LLM call.\"\"\"\n",
    "        pattern = r\"\\d+\\.\\s([^\\n]+)\"\n",
    "\n",
    "        # Extract the text of each item\n",
    "        matches = re.findall(pattern, text)\n",
    "        return matches"
   ]
  },
  {
   "cell_type": "code",
   "execution_count": 25,
   "id": "889de6b4-dc98-4827-98a0-c33e6591fdf2",
   "metadata": {},
   "outputs": [],
   "source": [
    "output_parser = NumberedListOutputParser()\n",
    "plan_prompt = ChatPromptTemplate.from_messages([\n",
    "    (\"system\", f\"Make a plan to accomplish the user objective. {output_parser.get_format_instructions()}\"),\n",
    "    (\"human\", \"{input}\")\n",
    "])\n",
    "plan_chain = plan_prompt | ChatOpenAI() | output_parser"
   ]
  },
  {
   "cell_type": "code",
   "execution_count": 26,
   "id": "59b98685-6273-44db-8d9a-23cc5882c6bc",
   "metadata": {},
   "outputs": [
    {
     "data": {
      "text/plain": [
       "[\"Research the college that Brett Favre's replacement in Green Bay went to. \",\n",
       " 'Write a two-line poem that captures the essence or significance of that college in relation to the replacement quarterback.']"
      ]
     },
     "execution_count": 26,
     "metadata": {},
     "output_type": "execute_result"
    }
   ],
   "source": [
    "plan_chain.invoke({\"input\": message})"
   ]
  },
  {
   "cell_type": "code",
   "execution_count": null,
   "id": "959f20d6-5232-4ee9-92f8-70bfa245e590",
   "metadata": {},
   "outputs": [],
   "source": []
  }
 ],
 "metadata": {
  "kernelspec": {
   "display_name": "Python 3 (ipykernel)",
   "language": "python",
   "name": "python3"
  },
  "language_info": {
   "codemirror_mode": {
    "name": "ipython",
    "version": 3
   },
   "file_extension": ".py",
   "mimetype": "text/x-python",
   "name": "python",
   "nbconvert_exporter": "python",
   "pygments_lexer": "ipython3",
   "version": "3.10.1"
  }
 },
 "nbformat": 4,
 "nbformat_minor": 5
}
